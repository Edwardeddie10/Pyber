{
 "cells": [
  {
   "cell_type": "code",
   "execution_count": 3,
   "metadata": {},
   "outputs": [
    {
     "data": {
      "text/html": [
       "<div>\n",
       "<style scoped>\n",
       "    .dataframe tbody tr th:only-of-type {\n",
       "        vertical-align: middle;\n",
       "    }\n",
       "\n",
       "    .dataframe tbody tr th {\n",
       "        vertical-align: top;\n",
       "    }\n",
       "\n",
       "    .dataframe thead th {\n",
       "        text-align: right;\n",
       "    }\n",
       "</style>\n",
       "<table border=\"1\" class=\"dataframe\">\n",
       "  <thead>\n",
       "    <tr style=\"text-align: right;\">\n",
       "      <th></th>\n",
       "      <th>city</th>\n",
       "      <th>date</th>\n",
       "      <th>fare</th>\n",
       "      <th>ride_id</th>\n",
       "      <th>driver_count</th>\n",
       "      <th>type</th>\n",
       "    </tr>\n",
       "  </thead>\n",
       "  <tbody>\n",
       "    <tr>\n",
       "      <th>0</th>\n",
       "      <td>Lake Jonathanshire</td>\n",
       "      <td>2018-01-14 10:14:22</td>\n",
       "      <td>13.83</td>\n",
       "      <td>5739410935873</td>\n",
       "      <td>5</td>\n",
       "      <td>Urban</td>\n",
       "    </tr>\n",
       "    <tr>\n",
       "      <th>1</th>\n",
       "      <td>Lake Jonathanshire</td>\n",
       "      <td>2018-04-07 20:51:11</td>\n",
       "      <td>31.25</td>\n",
       "      <td>4441251834598</td>\n",
       "      <td>5</td>\n",
       "      <td>Urban</td>\n",
       "    </tr>\n",
       "    <tr>\n",
       "      <th>2</th>\n",
       "      <td>Lake Jonathanshire</td>\n",
       "      <td>2018-03-09 23:45:55</td>\n",
       "      <td>19.89</td>\n",
       "      <td>2389495660448</td>\n",
       "      <td>5</td>\n",
       "      <td>Urban</td>\n",
       "    </tr>\n",
       "    <tr>\n",
       "      <th>3</th>\n",
       "      <td>Lake Jonathanshire</td>\n",
       "      <td>2018-04-07 18:09:21</td>\n",
       "      <td>24.28</td>\n",
       "      <td>7796805191168</td>\n",
       "      <td>5</td>\n",
       "      <td>Urban</td>\n",
       "    </tr>\n",
       "    <tr>\n",
       "      <th>4</th>\n",
       "      <td>Lake Jonathanshire</td>\n",
       "      <td>2018-01-02 14:14:50</td>\n",
       "      <td>13.89</td>\n",
       "      <td>424254840012</td>\n",
       "      <td>5</td>\n",
       "      <td>Urban</td>\n",
       "    </tr>\n",
       "  </tbody>\n",
       "</table>\n",
       "</div>"
      ],
      "text/plain": [
       "                 city                 date   fare        ride_id  \\\n",
       "0  Lake Jonathanshire  2018-01-14 10:14:22  13.83  5739410935873   \n",
       "1  Lake Jonathanshire  2018-04-07 20:51:11  31.25  4441251834598   \n",
       "2  Lake Jonathanshire  2018-03-09 23:45:55  19.89  2389495660448   \n",
       "3  Lake Jonathanshire  2018-04-07 18:09:21  24.28  7796805191168   \n",
       "4  Lake Jonathanshire  2018-01-02 14:14:50  13.89   424254840012   \n",
       "\n",
       "   driver_count   type  \n",
       "0             5  Urban  \n",
       "1             5  Urban  \n",
       "2             5  Urban  \n",
       "3             5  Urban  \n",
       "4             5  Urban  "
      ]
     },
     "execution_count": 3,
     "metadata": {},
     "output_type": "execute_result"
    }
   ],
   "source": [
    "%matplotlib inline\n",
    "# Dependencies and Setup\n",
    "import matplotlib.pyplot as plt\n",
    "import pandas as pd\n",
    "import numpy as np\n",
    "\n",
    "# File to Load (Remember to change these)\n",
    "city_data_to_load = \"data/city_data.csv\"\n",
    "ride_data_to_load = \"data/ride_data.csv\"\n",
    "\n",
    "# Read the City and Ride Data\n",
    "city_df = pd.read_csv(city_data_to_load)\n",
    "ride_df = pd.read_csv(ride_data_to_load)\n",
    "\n",
    "city_df.head()\n",
    "# Combine the data into a single dataset\n",
    "ride_df = pd.merge(ride_df, city_df, how=\"outer\", on=\"city\")\n",
    "\n",
    "group_city = ride_df.groupby(['city'])\n",
    "\n",
    "average_fare = group_city[\"fare\"].mean()\n",
    "average_fare.head()\n",
    "\n",
    "total_ride_per_city = group_city[\"ride_id\"].nunique()\n",
    "total_ride_per_city.head()\n",
    "\n",
    "driver_count_per_city = group_city[\"driver_count\"].sum()\n",
    "total_ride_per_city.head()\n",
    "ride_df.head()\n",
    "\n",
    "\n",
    "\n",
    "# Display the data table for preview\n"
   ]
  },
  {
   "cell_type": "code",
   "execution_count": 1,
   "metadata": {
    "scrolled": true
   },
   "outputs": [
    {
     "data": {
      "text/html": [
       "<div>\n",
       "<style scoped>\n",
       "    .dataframe tbody tr th:only-of-type {\n",
       "        vertical-align: middle;\n",
       "    }\n",
       "\n",
       "    .dataframe tbody tr th {\n",
       "        vertical-align: top;\n",
       "    }\n",
       "\n",
       "    .dataframe thead th {\n",
       "        text-align: right;\n",
       "    }\n",
       "</style>\n",
       "<table border=\"1\" class=\"dataframe\">\n",
       "  <thead>\n",
       "    <tr style=\"text-align: right;\">\n",
       "      <th></th>\n",
       "      <th>city</th>\n",
       "      <th>date</th>\n",
       "      <th>fare</th>\n",
       "      <th>ride_id</th>\n",
       "      <th>driver_count</th>\n",
       "      <th>type</th>\n",
       "    </tr>\n",
       "  </thead>\n",
       "  <tbody>\n",
       "    <tr>\n",
       "      <th>0</th>\n",
       "      <td>Lake Jonathanshire</td>\n",
       "      <td>2018-01-14 10:14:22</td>\n",
       "      <td>13.83</td>\n",
       "      <td>5739410935873</td>\n",
       "      <td>5</td>\n",
       "      <td>Urban</td>\n",
       "    </tr>\n",
       "    <tr>\n",
       "      <th>1</th>\n",
       "      <td>South Michelleport</td>\n",
       "      <td>2018-03-04 18:24:09</td>\n",
       "      <td>30.24</td>\n",
       "      <td>2343912425577</td>\n",
       "      <td>72</td>\n",
       "      <td>Urban</td>\n",
       "    </tr>\n",
       "    <tr>\n",
       "      <th>2</th>\n",
       "      <td>Port Samanthamouth</td>\n",
       "      <td>2018-02-24 04:29:00</td>\n",
       "      <td>33.44</td>\n",
       "      <td>2005065760003</td>\n",
       "      <td>57</td>\n",
       "      <td>Urban</td>\n",
       "    </tr>\n",
       "    <tr>\n",
       "      <th>3</th>\n",
       "      <td>Rodneyfort</td>\n",
       "      <td>2018-02-10 23:22:03</td>\n",
       "      <td>23.44</td>\n",
       "      <td>5149245426178</td>\n",
       "      <td>34</td>\n",
       "      <td>Urban</td>\n",
       "    </tr>\n",
       "    <tr>\n",
       "      <th>4</th>\n",
       "      <td>South Jack</td>\n",
       "      <td>2018-03-06 04:28:35</td>\n",
       "      <td>34.58</td>\n",
       "      <td>3908451377344</td>\n",
       "      <td>46</td>\n",
       "      <td>Urban</td>\n",
       "    </tr>\n",
       "  </tbody>\n",
       "</table>\n",
       "</div>"
      ],
      "text/plain": [
       "                 city                 date   fare        ride_id  \\\n",
       "0  Lake Jonathanshire  2018-01-14 10:14:22  13.83  5739410935873   \n",
       "1  South Michelleport  2018-03-04 18:24:09  30.24  2343912425577   \n",
       "2  Port Samanthamouth  2018-02-24 04:29:00  33.44  2005065760003   \n",
       "3          Rodneyfort  2018-02-10 23:22:03  23.44  5149245426178   \n",
       "4          South Jack  2018-03-06 04:28:35  34.58  3908451377344   \n",
       "\n",
       "   driver_count   type  \n",
       "0             5  Urban  \n",
       "1            72  Urban  \n",
       "2            57  Urban  \n",
       "3            34  Urban  \n",
       "4            46  Urban  "
      ]
     },
     "execution_count": 1,
     "metadata": {},
     "output_type": "execute_result"
    }
   ],
   "source": []
  },
  {
   "cell_type": "markdown",
   "metadata": {},
   "source": [
    "## Bubble Plot of Ride Sharing Data"
   ]
  },
  {
   "cell_type": "code",
   "execution_count": 4,
   "metadata": {},
   "outputs": [
    {
     "data": {
      "text/plain": [
       "city\n",
       "Amandaburgh              216\n",
       "Barajasview              572\n",
       "Carriemouth             1404\n",
       "Christopherfurt         1107\n",
       "Deanville                931\n",
       "East Kaylahaven         1885\n",
       "Erikaland                444\n",
       "Grahamburgh             1525\n",
       "Huntermouth              888\n",
       "Hurleymouth             1008\n",
       "Jerryton                1600\n",
       "Johnton                  567\n",
       "Joneschester             975\n",
       "Justinberg              1170\n",
       "Karenberg                374\n",
       "Karenside                140\n",
       "Lake Danielberg          494\n",
       "Lake Jonathanshire       120\n",
       "Lake Scottton           1392\n",
       "Leahton                  357\n",
       "Liumouth                2277\n",
       "Loganberg                644\n",
       "Martinezhaven            600\n",
       "New Jacobville           900\n",
       "New Kimberlyborough      990\n",
       "New Paulton              836\n",
       "New Paulville            968\n",
       "North Barbara            396\n",
       "North Jasmine            990\n",
       "North Jason              210\n",
       "                        ... \n",
       "Port Johnbury             66\n",
       "Port Samanthamouth      1425\n",
       "Raymondhaven             275\n",
       "Reynoldsfurt            1273\n",
       "Richardfort             1064\n",
       "Roberthaven             1128\n",
       "Robertport               240\n",
       "Rodneyfort               782\n",
       "Rogerston                550\n",
       "Royland                 1920\n",
       "Simpsonburgh             504\n",
       "South Evanton            341\n",
       "South Jack               874\n",
       "South Karenland          152\n",
       "South Latoya             190\n",
       "South Michelleport      2232\n",
       "South Phillip           1178\n",
       "Valentineton             990\n",
       "West Angela             1872\n",
       "West Anthony            2100\n",
       "West Christopherberg     832\n",
       "West Ericstad            450\n",
       "West Gabriel            1311\n",
       "West Heidi               784\n",
       "West Josephberg         1170\n",
       "West Patrickchester      400\n",
       "West Robert             1209\n",
       "West Samuelburgh        1825\n",
       "Williamsstad            1357\n",
       "Williamsview             920\n",
       "Name: driver_count, Length: 66, dtype: int64"
      ]
     },
     "execution_count": 4,
     "metadata": {},
     "output_type": "execute_result"
    }
   ],
   "source": [
    "# Obtain the x and y coordinates for each of the three city types\n",
    "#Urban\n",
    "\n",
    "is_urban = ride_df['type']=='Urban'\n",
    "is_urban\n",
    "\n",
    "color_for_urban = 'Red'\n",
    "# DataFrame\n",
    "is_urban_df = ride_df[is_urban]\n",
    "\n",
    "# groupby city\n",
    "group_city_urban = is_urban_df.groupby(['city'])\n",
    "\n",
    "# average fare\n",
    "average_fare_urban = group_city_urban[\"fare\"].mean()\n",
    "average_fare_urban.head()\n",
    "\n",
    "# total number of rides per city\n",
    "total_number_of_rides_per_city_urban = group_city_urban[\"ride_id\"].nunique\n",
    "total_number_of_rides_per_city_urban\n",
    "\n",
    "#total number of drivers per city\n",
    "total_number_of_drivers_per_city_urban =group_city_urban[\"driver_count\"].sum()\n",
    "total_number_of_drivers_per_city_urban\n"
   ]
  },
  {
   "cell_type": "code",
   "execution_count": 5,
   "metadata": {},
   "outputs": [
    {
     "data": {
      "text/plain": [
       "city\n",
       "Barronchester         176\n",
       "Bethanyland           396\n",
       "Brandonfort           190\n",
       "Colemanland           506\n",
       "Davidfurt             391\n",
       "East Aaronbury         63\n",
       "East Danielview       374\n",
       "East Kentstad         260\n",
       "East Marymouth        135\n",
       "Grayville              30\n",
       "Josephside            675\n",
       "Lake Ann               36\n",
       "Lake Omar             308\n",
       "Lake Robertside       100\n",
       "Lake Scott            414\n",
       "Lewishaven            276\n",
       "Lewisland              68\n",
       "Mezachester           238\n",
       "Myersshire            304\n",
       "New Olivia            340\n",
       "New Raymond           374\n",
       "New Shannonberg       340\n",
       "Nicolechester         361\n",
       "North Jeffrey         143\n",
       "North Richardhaven     14\n",
       "North Timothy         105\n",
       "Port Shane            133\n",
       "Rodriguezview         300\n",
       "Sotoville             110\n",
       "South Brenda           24\n",
       "South Teresa          462\n",
       "Veronicaberg          340\n",
       "Victoriaport          224\n",
       "West Hannah           252\n",
       "West Kimmouth          80\n",
       "Williamsonville        28\n",
       "Name: driver_count, dtype: int64"
      ]
     },
     "execution_count": 5,
     "metadata": {},
     "output_type": "execute_result"
    }
   ],
   "source": [
    "# suburban\n",
    "is_suburban = ride_df['type']=='Suburban'\n",
    "is_suburban\n",
    "\n",
    "color_for_suburban = 'Blue'\n",
    "# DataFrame\n",
    "is_suburban_df = ride_df[is_suburban]\n",
    "\n",
    "# groupby city\n",
    "group_city_suburban = is_suburban_df.groupby(['city'])\n",
    "\n",
    "# average fare\n",
    "average_fare_suburban = group_city_suburban[\"fare\"].mean()\n",
    "average_fare_suburban.head()\n",
    "\n",
    "# total number of rides per city\n",
    "total_number_of_rides_per_city_suburban = group_city_suburban[\"ride_id\"].nunique\n",
    "total_number_of_rides_per_city_suburban\n",
    "\n",
    "#total number of drivers per city\n",
    "total_number_of_drivers_per_city_suburban =group_city_suburban[\"driver_count\"].sum()\n",
    "total_number_of_drivers_per_city_suburban"
   ]
  },
  {
   "cell_type": "code",
   "execution_count": 6,
   "metadata": {},
   "outputs": [
    {
     "data": {
      "text/plain": [
       "city\n",
       "Bradshawfurt         70\n",
       "Garzaport            21\n",
       "Harringtonfort       24\n",
       "Jessicaport           6\n",
       "Lake Jamie           24\n",
       "Lake Latoyabury      22\n",
       "Michaelberg          72\n",
       "New Ryantown         12\n",
       "Newtonview            4\n",
       "North Holly          72\n",
       "North Jaime           8\n",
       "Penaborough          30\n",
       "Randallchester       45\n",
       "South Jennifer       49\n",
       "South Marychester     8\n",
       "South Saramouth      28\n",
       "Taylorhaven           6\n",
       "West Heather         36\n",
       "Name: driver_count, dtype: int64"
      ]
     },
     "execution_count": 6,
     "metadata": {},
     "output_type": "execute_result"
    }
   ],
   "source": [
    "#rural\n",
    "is_rural = ride_df['type']=='Rural'\n",
    "is_rural\n",
    "\n",
    "color_for_rural = 'Yellow'\n",
    "# DataFrame\n",
    "is_rural_df = ride_df[is_rural]\n",
    "\n",
    "# groupby city\n",
    "group_city_rural = is_rural_df.groupby(['city'])\n",
    "\n",
    "# average fare\n",
    "average_fare_rural = group_city_rural[\"fare\"].mean()\n",
    "# average_fare_rural.head()\n",
    "\n",
    "# total number of rides per city\n",
    "total_number_of_rides_per_city_rural = group_city_rural[\"ride_id\"].nunique\n",
    "# total_number_of_rides_per_city_rural\n",
    "\n",
    "#total number of drivers per city\n",
    "total_number_of_drivers_per_city_rural =group_city_rural[\"driver_count\"].sum()\n",
    "total_number_of_drivers_per_city_rural"
   ]
  },
  {
   "cell_type": "code",
   "execution_count": 7,
   "metadata": {},
   "outputs": [
    {
     "ename": "ValueError",
     "evalue": "x and y must be the same size",
     "output_type": "error",
     "traceback": [
      "\u001b[1;31m---------------------------------------------------------------------------\u001b[0m",
      "\u001b[1;31mValueError\u001b[0m                                Traceback (most recent call last)",
      "\u001b[1;32m<ipython-input-7-b9fca3bd0776>\u001b[0m in \u001b[0;36m<module>\u001b[1;34m\u001b[0m\n\u001b[0;32m      3\u001b[0m \u001b[1;33m\u001b[0m\u001b[0m\n\u001b[0;32m      4\u001b[0m plt.scatter(total_number_of_rides_per_city_urban, average_fare_urban, s=total_number_of_drivers_per_city_urban,c=color_for_urban\n\u001b[1;32m----> 5\u001b[1;33m             , marker=\".\", facecolors=color_for_urban, edgecolors=\"black\", alpha=0.75)\n\u001b[0m\u001b[0;32m      6\u001b[0m plt.scatter(total_number_of_rides_per_city_suburban, average_fare_suburban, s=total_number_of_drivers_per_city_suburban,c=color_for_suburban\n\u001b[0;32m      7\u001b[0m             , marker=\".\", facecolors=color_for_sunurban, edgecolors=\"black\", alpha=0.75)\n",
      "\u001b[1;32m~\\Anaconda3\\envs\\PythonClass\\lib\\site-packages\\matplotlib\\pyplot.py\u001b[0m in \u001b[0;36mscatter\u001b[1;34m(x, y, s, c, marker, cmap, norm, vmin, vmax, alpha, linewidths, verts, edgecolors, data, **kwargs)\u001b[0m\n\u001b[0;32m   2860\u001b[0m         \u001b[0mvmin\u001b[0m\u001b[1;33m=\u001b[0m\u001b[0mvmin\u001b[0m\u001b[1;33m,\u001b[0m \u001b[0mvmax\u001b[0m\u001b[1;33m=\u001b[0m\u001b[0mvmax\u001b[0m\u001b[1;33m,\u001b[0m \u001b[0malpha\u001b[0m\u001b[1;33m=\u001b[0m\u001b[0malpha\u001b[0m\u001b[1;33m,\u001b[0m \u001b[0mlinewidths\u001b[0m\u001b[1;33m=\u001b[0m\u001b[0mlinewidths\u001b[0m\u001b[1;33m,\u001b[0m\u001b[1;33m\u001b[0m\u001b[1;33m\u001b[0m\u001b[0m\n\u001b[0;32m   2861\u001b[0m         verts=verts, edgecolors=edgecolors, **({\"data\": data} if data\n\u001b[1;32m-> 2862\u001b[1;33m         is not None else {}), **kwargs)\n\u001b[0m\u001b[0;32m   2863\u001b[0m     \u001b[0msci\u001b[0m\u001b[1;33m(\u001b[0m\u001b[0m__ret\u001b[0m\u001b[1;33m)\u001b[0m\u001b[1;33m\u001b[0m\u001b[1;33m\u001b[0m\u001b[0m\n\u001b[0;32m   2864\u001b[0m     \u001b[1;32mreturn\u001b[0m \u001b[0m__ret\u001b[0m\u001b[1;33m\u001b[0m\u001b[1;33m\u001b[0m\u001b[0m\n",
      "\u001b[1;32m~\\Anaconda3\\envs\\PythonClass\\lib\\site-packages\\matplotlib\\__init__.py\u001b[0m in \u001b[0;36minner\u001b[1;34m(ax, data, *args, **kwargs)\u001b[0m\n\u001b[0;32m   1808\u001b[0m                         \u001b[1;34m\"the Matplotlib list!)\"\u001b[0m \u001b[1;33m%\u001b[0m \u001b[1;33m(\u001b[0m\u001b[0mlabel_namer\u001b[0m\u001b[1;33m,\u001b[0m \u001b[0mfunc\u001b[0m\u001b[1;33m.\u001b[0m\u001b[0m__name__\u001b[0m\u001b[1;33m)\u001b[0m\u001b[1;33m,\u001b[0m\u001b[1;33m\u001b[0m\u001b[1;33m\u001b[0m\u001b[0m\n\u001b[0;32m   1809\u001b[0m                         RuntimeWarning, stacklevel=2)\n\u001b[1;32m-> 1810\u001b[1;33m             \u001b[1;32mreturn\u001b[0m \u001b[0mfunc\u001b[0m\u001b[1;33m(\u001b[0m\u001b[0max\u001b[0m\u001b[1;33m,\u001b[0m \u001b[1;33m*\u001b[0m\u001b[0margs\u001b[0m\u001b[1;33m,\u001b[0m \u001b[1;33m**\u001b[0m\u001b[0mkwargs\u001b[0m\u001b[1;33m)\u001b[0m\u001b[1;33m\u001b[0m\u001b[1;33m\u001b[0m\u001b[0m\n\u001b[0m\u001b[0;32m   1811\u001b[0m \u001b[1;33m\u001b[0m\u001b[0m\n\u001b[0;32m   1812\u001b[0m         inner.__doc__ = _add_data_doc(inner.__doc__,\n",
      "\u001b[1;32m~\\Anaconda3\\envs\\PythonClass\\lib\\site-packages\\matplotlib\\axes\\_axes.py\u001b[0m in \u001b[0;36mscatter\u001b[1;34m(self, x, y, s, c, marker, cmap, norm, vmin, vmax, alpha, linewidths, verts, edgecolors, **kwargs)\u001b[0m\n\u001b[0;32m   4180\u001b[0m         \u001b[0my\u001b[0m \u001b[1;33m=\u001b[0m \u001b[0mnp\u001b[0m\u001b[1;33m.\u001b[0m\u001b[0mma\u001b[0m\u001b[1;33m.\u001b[0m\u001b[0mravel\u001b[0m\u001b[1;33m(\u001b[0m\u001b[0my\u001b[0m\u001b[1;33m)\u001b[0m\u001b[1;33m\u001b[0m\u001b[1;33m\u001b[0m\u001b[0m\n\u001b[0;32m   4181\u001b[0m         \u001b[1;32mif\u001b[0m \u001b[0mx\u001b[0m\u001b[1;33m.\u001b[0m\u001b[0msize\u001b[0m \u001b[1;33m!=\u001b[0m \u001b[0my\u001b[0m\u001b[1;33m.\u001b[0m\u001b[0msize\u001b[0m\u001b[1;33m:\u001b[0m\u001b[1;33m\u001b[0m\u001b[1;33m\u001b[0m\u001b[0m\n\u001b[1;32m-> 4182\u001b[1;33m             \u001b[1;32mraise\u001b[0m \u001b[0mValueError\u001b[0m\u001b[1;33m(\u001b[0m\u001b[1;34m\"x and y must be the same size\"\u001b[0m\u001b[1;33m)\u001b[0m\u001b[1;33m\u001b[0m\u001b[1;33m\u001b[0m\u001b[0m\n\u001b[0m\u001b[0;32m   4183\u001b[0m \u001b[1;33m\u001b[0m\u001b[0m\n\u001b[0;32m   4184\u001b[0m         \u001b[1;32mif\u001b[0m \u001b[0ms\u001b[0m \u001b[1;32mis\u001b[0m \u001b[1;32mNone\u001b[0m\u001b[1;33m:\u001b[0m\u001b[1;33m\u001b[0m\u001b[1;33m\u001b[0m\u001b[0m\n",
      "\u001b[1;31mValueError\u001b[0m: x and y must be the same size"
     ]
    },
    {
     "data": {
      "image/png": "[encoded data removed]",
      "text/plain": [
       "<Figure size 432x288 with 1 Axes>"
      ]
     },
     "metadata": {
      "needs_background": "light"
     },
     "output_type": "display_data"
    }
   ],
   "source": [
    "# Build the scatter plots for each city types\n",
    "# scatter plot for urban_suburban_rural\n",
    "\n",
    "plt.scatter(total_number_of_rides_per_city_urban, average_fare_urban, s=total_number_of_drivers_per_city_urban,c=color_for_urban\n",
    "            , marker=\".\", facecolors=color_for_urban, edgecolors=\"black\", alpha=0.75)\n",
    "plt.scatter(total_number_of_rides_per_city_suburban, average_fare_suburban, s=total_number_of_drivers_per_city_suburban,c=color_for_suburban\n",
    "            , marker=\".\", facecolors=color_for_sunurban, edgecolors=\"black\", alpha=0.75)\n",
    "plt.scatter(total_number_of_rides_per_city_rural, average_fare_rural, s=total_number_of_drivers_per_city_rural,c=color_for_rural\n",
    "            , marker=\".\", facecolors=color_for_rural, edgecolors=\"black\", alpha=0.75)\n",
    "\n",
    "# Rename x and y axis\n",
    "plt.xlabel(\"Total Number of Rides (per City)\")\n",
    "plt.ylabel(\"Average Fare ($)\")\n",
    "\n",
    "# Rename Plot Title\n",
    "plt.title('Pyber Ride Sharing Data (2016)')\n",
    "plt.grid(True)\n",
    "\n",
    "# Adding notes\n",
    "plt.text(44.5, 30.5, r'Note: Circle size correlates with driver count per city.', fontsize=10)\n",
    "\n",
    "# Setting plt legends\n",
    "plt.legend(['Urban','Suburban','Rural'],title=\"City Type\",markerscale=.7)\n",
    "plt.show()"
   ]
  },
  {
   "cell_type": "code",
   "execution_count": 3,
   "metadata": {},
   "outputs": [
    {
     "data": {
      "image/png": "[encoded data removed]",
      "text/plain": [
       "<Figure size 432x288 with 1 Axes>"
      ]
     },
     "metadata": {},
     "output_type": "display_data"
    }
   ],
   "source": [
    "# Show plot\n",
    "plt.show()"
   ]
  },
  {
   "cell_type": "markdown",
   "metadata": {},
   "source": [
    "## Total Fares by City Type"
   ]
  },
  {
   "cell_type": "code",
   "execution_count": 8,
   "metadata": {},
   "outputs": [
    {
     "data": {
      "image/png": "[encoded data removed]",
      "text/plain": [
       "<Figure size 432x288 with 1 Axes>"
      ]
     },
     "metadata": {},
     "output_type": "display_data"
    }
   ],
   "source": [
    "# Calculate Type Percents\n",
    "total_fares_urb = is_urban_df['fare'].sum()\n",
    "total_fares_sub = is_suburban_df['fare'].sum()\n",
    "total_fares_rural = is_rural_df['fare'].sum()\n",
    "total_fares = total_fares_urb + total_fares_sub + total_fares_rural\n",
    "\n",
    "# print(total_fares_urb/total_fares)\n",
    "# print(total_fares_surb/total_fares)\n",
    "# print(total_fares_rural/total_fares)\n",
    "\n",
    "# Build Pie Chart\n",
    "labels = 'Urban', 'Suburban', 'Rural'\n",
    "colors = '#FF00FF','#0000FF','#FFFF00'\n",
    "\n",
    "sizes = [total_fares_urb/total_fares, total_fares_sub/total_fares, total_fares_rural/total_fares]\n",
    "\n",
    "explode = (0.1, 0.1, 0.1)\n",
    "\n",
    "fig1, ax1 = plt.subplots()\n",
    "ax1.pie(sizes, explode=explode, labels=labels, autopct='%1.1f%%', shadow=False, startangle=90, colors=colors)\n",
    "\n",
    "ax1.axis('equal') # Equal aspect ratio ensures that pie is drawn as a circle.\n",
    "\n",
    "\n",
    "# Save Figure\n",
    "plt.title('Pyber_Total Fares by City Type')\n",
    "plt.savefig(\"../Images/pyber_Total Fares by City Type.png\")\n",
    "plt.show()"
   ]
  },
  {
   "cell_type": "code",
   "execution_count": 4,
   "metadata": {},
   "outputs": [
    {
     "data": {
      "image/png": "[encoded data removed]",
      "text/plain": [
       "<Figure size 432x288 with 1 Axes>"
      ]
     },
     "metadata": {},
     "output_type": "display_data"
    }
   ],
   "source": [
    "# Show Figure\n",
    "plt.show()"
   ]
  },
  {
   "cell_type": "markdown",
   "metadata": {},
   "source": [
    "## Total Rides by City Type"
   ]
  },
  {
   "cell_type": "code",
   "execution_count": 10,
   "metadata": {},
   "outputs": [],
   "source": [
    "# Calculate Ride Percents\n",
    "\n",
    "# print(len(is_urban_df)/len(ride_df))\n",
    "# print(len(is_suburban_df)/len(ride_df))\n",
    "#print(len(is_rural_df)/len(ride_df))\n",
    "\n",
    "                      \n",
    "# Build Pie Chart\n",
    "labels = 'Urban', 'Suburban', 'Rural'\n",
    "color = '#FF00FF','#0000FF','#FFFF00'"
   ]
  },
  {
   "cell_type": "code",
   "execution_count": null,
   "metadata": {},
   "outputs": [],
   "source": [
    "# Show Figure\n",
    "# Show Figure\n",
    "#parameters\n",
    "sizes = [len(is_urban_df)/len(ride_df), len(is_suburban_df)/len(ride_df), len(is_rural_df)/len(ride_df)]\n",
    "\n",
    "explode = (0.1, 0.1, 0.1)\n",
    "\n",
    "ax1 = plt.subplots()\n",
    "ax1.pie(sizes, explode=explode, labels=labels, autopct='%1.1f%%',shadow=False, startangle=90, colors=colors)\n",
    "\n",
    "\n",
    "ax1.axis('equal') # Equal aspect ratio ensures that pie is drawn as a circle.\n",
    "\n",
    "                                                               \n",
    "                      \n",
    "# Save Figure\n",
    "plt.title('Pyber_Total Rides by City Type')\n",
    "plt.savefig(\"../Images/pyber_Total Rides by City Type.png\")\n",
    "plt.show()\n",
    "plt.show()"
   ]
  },
  {
   "cell_type": "markdown",
   "metadata": {},
   "source": [
    "## Total Drivers by City Type"
   ]
  },
  {
   "cell_type": "code",
   "execution_count": 12,
   "metadata": {},
   "outputs": [],
   "source": [
    "# Calculate Driver Percents\n",
    "# is_urban_df['driver_count'].sum()\n",
    "# print(is_rural_df['driver_count'].sum())\n",
    "# print(is_suburban_df['driver_count'].sum())\n",
    "# print(is_urban_df['driver_count'].sum()\n"
   ]
  },
  {
   "cell_type": "code",
   "execution_count": 14,
   "metadata": {},
   "outputs": [],
   "source": [
    "# print((is_urban_df['driver_count'].sum()+is_suburban_df['driver_count'].sum()+is_rural_df['driver_count'].sum()))\n",
    "\n",
    "# print(is_urban_df['driver_count'].sum()/(is_rural_df['driver_count'].sum()+is_suburban_df['driver_count'].sum()+is_urban_df['driver_count'].sum()))\n",
    "# print(is_suburban_df['driver_count'].sum()/(is_rural_df['driver_count'].sum()+is_suburban_df['driver_count'].sum()+is_urban_df['driver_count'].sum()))\n",
    "# print(is_rural_df['driver_count'].sum()/(is_rural_df['driver_count'].sum()+is_suburban_df['driver_count'].sum()+is_urban_df['driver_count'].sum()))\n",
    "\n",
    "sum_1 = is_urban_df['driver_count'].sum()/(is_rural_df['driver_count'].sum()+is_suburban_df['driver_count'].sum()+is_urban_df['driver_count'].sum())\n",
    "sum_2 = is_suburban_df['driver_count'].sum()/(is_rural_df['driver_count'].sum()+is_suburban_df['driver_count'].sum()+is_urban_df['driver_count'].sum())\n",
    "sum_3 = is_rural_df['driver_count'].sum()/(is_rural_df['driver_count'].sum()+is_suburban_df['driver_count'].sum()+is_urban_df['driver_count'].sum())"
   ]
  },
  {
   "cell_type": "code",
   "execution_count": 15,
   "metadata": {
    "scrolled": true
   },
   "outputs": [
    {
     "data": {
      "image/png": "[encoded data removed]",
      "text/plain": [
       "<Figure size 432x288 with 1 Axes>"
      ]
     },
     "metadata": {},
     "output_type": "display_data"
    }
   ],
   "source": [
    "# Show Figure\n",
    "labels = 'Urban','Suburban','Rural'\n",
    "colors = '#FF00FF','#0000FF','#FFFF00'\n",
    "\n",
    "# Setting pie parameters \n",
    "sizes = [sum_1, sum_2, sum_3]  \n",
    "\n",
    "explode = (0.1, 0.1, 0.3)\n",
    "\n",
    "fig1, ax1 = plt.subplots()\n",
    "ax1.pie(sizes, explode=explode, labels=labels, autopct='%1.1f%%',shadow=False, startangle=90, colors=colors)\n",
    "\n",
    "ax1.axis('equal')  # Equal aspect ratio ensures that pie is drawn as a circle.\n",
    "\n",
    "# Save Figure\n",
    "plt.title('Pyber_Total Drivers by City Type')\n",
    "plt.savefig(\"../Images/Pyber_Total Drivers by City Type.png\")\n",
    "plt.show()\n",
    "plt.show()"
   ]
  },
  {
   "cell_type": "code",
   "execution_count": null,
   "metadata": {},
   "outputs": [],
   "source": []
  }
 ],
 "metadata": {
  "anaconda-cloud": {},
  "kernelspec": {
   "display_name": "Python 3",
   "language": "python",
   "name": "python3"
  },
  "language_info": {
   "codemirror_mode": {
    "name": "ipython",
    "version": 3
   },
   "file_extension": ".py",
   "mimetype": "text/x-python",
   "name": "python",
   "nbconvert_exporter": "python",
   "pygments_lexer": "ipython3",
   "version": "3.6.8"
  }
 },
 "nbformat": 4,
 "nbformat_minor": 2
}
